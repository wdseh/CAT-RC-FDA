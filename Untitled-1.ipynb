{
 "cells": [
  {
   "cell_type": "code",
   "execution_count": 12,
   "metadata": {},
   "outputs": [
    {
     "name": "stdout",
     "output_type": "stream",
     "text": [
      "tensor([[9.5664e-01, 1.4615e-02, 1.7973e-02, 3.3861e-04, 2.2044e-03, 2.4463e-03,\n",
      "         1.9079e-03, 3.8716e-03],\n",
      "        [1.0894e-01, 7.3359e-01, 7.7986e-02, 2.2512e-02, 9.1143e-03, 4.4767e-03,\n",
      "         2.7006e-02, 1.6378e-02],\n",
      "        [4.6687e-03, 7.3762e-04, 9.8421e-01, 4.0897e-03, 1.2690e-03, 1.9725e-03,\n",
      "         2.3077e-03, 7.4857e-04],\n",
      "        [3.3047e-02, 1.1321e-02, 1.1119e-01, 6.9164e-01, 6.3077e-02, 6.2400e-02,\n",
      "         2.0190e-02, 7.1318e-03],\n",
      "        [6.5486e-02, 1.4160e-02, 1.2584e-01, 5.2781e-02, 6.5333e-01, 7.0326e-02,\n",
      "         1.7252e-02, 8.2602e-04],\n",
      "        [5.1344e-02, 1.5087e-02, 1.4813e-01, 6.2394e-02, 4.9032e-02, 6.6127e-01,\n",
      "         1.1887e-02, 8.5055e-04],\n",
      "        [2.2285e-02, 3.6899e-02, 1.6789e-01, 2.0670e-02, 5.1857e-03, 3.1796e-02,\n",
      "         6.8928e-01, 2.5992e-02],\n",
      "        [4.5680e-02, 2.1247e-02, 3.0802e-02, 1.0206e-03, 1.2290e-03, 4.0128e-03,\n",
      "         1.9656e-02, 8.7635e-01]])\n"
     ]
    }
   ],
   "source": [
    "import torch\n",
    "\n",
    "# 替换为您的.pt文件路径\n",
    "file_path = '/data/classawareteacher-master/output/exp_city/prob_iter79999_rank1.pt'\n",
    "\n",
    "# 加载.pt文件\n",
    "data = torch.load(file_path)\n",
    "\n",
    "# 打印文件内容\n",
    "print(data)\n"
   ]
  },
  {
   "cell_type": "code",
   "execution_count": 9,
   "metadata": {},
   "outputs": [
    {
     "name": "stdout",
     "output_type": "stream",
     "text": [
      "<class 'list'>\n",
      "{'image_id': 'bonn_000031_000019_leftImg8bit_foggy_beta_0.02.png', 'instances': [{'image_id': 'bonn_000031_000019_leftImg8bit_foggy_beta_0.02.png', 'category_id': 0, 'bbox': [181.8436279296875, 354.7296142578125, 79.550048828125, 220.52001953125], 'score': 0.9991068243980408}, {'image_id': 'bonn_000031_000019_leftImg8bit_foggy_beta_0.02.png', 'category_id': 0, 'bbox': [7.745551586151123, 300.4676818847656, 83.42324829101562, 325.9437561035156], 'score': 0.9986432194709778}, {'image_id': 'bonn_000031_000019_leftImg8bit_foggy_beta_0.02.png', 'category_id': 2, 'bbox': [872.051025390625, 408.1736755371094, 178.1483154296875, 123.92813110351562], 'score': 0.9980892539024353}, {'image_id': 'bonn_000031_000019_leftImg8bit_foggy_beta_0.02.png', 'category_id': 0, 'bbox': [276.9122619628906, 343.8057556152344, 83.32821655273438, 238.61819458007812], 'score': 0.9976797699928284}, {'image_id': 'bonn_000031_000019_leftImg8bit_foggy_beta_0.02.png', 'category_id': 0, 'bbox': [379.0294494628906, 346.1777038574219, 81.22036743164062, 219.31924438476562], 'score': 0.997665524482727}, {'image_id': 'bonn_000031_000019_leftImg8bit_foggy_beta_0.02.png', 'category_id': 2, 'bbox': [1265.174560546875, 405.180908203125, 104.664306640625, 83.10195922851562], 'score': 0.9971502423286438}, {'image_id': 'bonn_000031_000019_leftImg8bit_foggy_beta_0.02.png', 'category_id': 2, 'bbox': [1089.771240234375, 406.29193115234375, 254.740966796875, 199.83209228515625], 'score': 0.9969980716705322}, {'image_id': 'bonn_000031_000019_leftImg8bit_foggy_beta_0.02.png', 'category_id': 0, 'bbox': [86.11182403564453, 325.4324951171875, 92.02367401123047, 272.49468994140625], 'score': 0.9964863061904907}, {'image_id': 'bonn_000031_000019_leftImg8bit_foggy_beta_0.02.png', 'category_id': 0, 'bbox': [1394.1072998046875, 381.9563903808594, 61.046142578125, 151.74014282226562], 'score': 0.9945039749145508}, {'image_id': 'bonn_000031_000019_leftImg8bit_foggy_beta_0.02.png', 'category_id': 0, 'bbox': [447.93292236328125, 355.83392333984375, 48.834197998046875, 192.0113525390625], 'score': 0.9943506717681885}, {'image_id': 'bonn_000031_000019_leftImg8bit_foggy_beta_0.02.png', 'category_id': 0, 'bbox': [1490.4920654296875, 374.428466796875, 33.0157470703125, 79.76629638671875], 'score': 0.9905276298522949}, {'image_id': 'bonn_000031_000019_leftImg8bit_foggy_beta_0.02.png', 'category_id': 0, 'bbox': [1588.0789794921875, 373.3876647949219, 32.900634765625, 101.05368041992188], 'score': 0.9671858549118042}, {'image_id': 'bonn_000031_000019_leftImg8bit_foggy_beta_0.02.png', 'category_id': 7, 'bbox': [1620.8282470703125, 425.8367919921875, 189.8570556640625, 244.30615234375], 'score': 0.950873851776123}, {'image_id': 'bonn_000031_000019_leftImg8bit_foggy_beta_0.02.png', 'category_id': 0, 'bbox': [1536.5478515625, 377.03363037109375, 55.640869140625, 105.71597290039062], 'score': 0.9224070906639099}, {'image_id': 'bonn_000031_000019_leftImg8bit_foggy_beta_0.02.png', 'category_id': 7, 'bbox': [1565.5443115234375, 447.5299377441406, 112.48681640625, 173.18630981445312], 'score': 0.9133482575416565}, {'image_id': 'bonn_000031_000019_leftImg8bit_foggy_beta_0.02.png', 'category_id': 2, 'bbox': [355.8147888183594, 412.4844055175781, 33.88043212890625, 35.286163330078125], 'score': 0.8814653754234314}, {'image_id': 'bonn_000031_000019_leftImg8bit_foggy_beta_0.02.png', 'category_id': 7, 'bbox': [176.1540069580078, 436.0221862792969, 98.21958923339844, 78.76553344726562], 'score': 0.8096677660942078}, {'image_id': 'bonn_000031_000019_leftImg8bit_foggy_beta_0.02.png', 'category_id': 0, 'bbox': [79.14778900146484, 332.2437438964844, 56.024330139160156, 259.8918762207031], 'score': 0.772091269493103}, {'image_id': 'bonn_000031_000019_leftImg8bit_foggy_beta_0.02.png', 'category_id': 0, 'bbox': [1501.8165283203125, 374.6700134277344, 28.911865234375, 89.90023803710938], 'score': 0.7355979681015015}, {'image_id': 'bonn_000031_000019_leftImg8bit_foggy_beta_0.02.png', 'category_id': 2, 'bbox': [252.21682739257812, 414.0791320800781, 29.766754150390625, 36.968994140625], 'score': 0.642316460609436}, {'image_id': 'bonn_000031_000019_leftImg8bit_foggy_beta_0.02.png', 'category_id': 2, 'bbox': [347.7242736816406, 415.5072326660156, 26.20513916015625, 51.219451904296875], 'score': 0.6105778813362122}, {'image_id': 'bonn_000031_000019_leftImg8bit_foggy_beta_0.02.png', 'category_id': 2, 'bbox': [265.120849609375, 412.8902282714844, 22.025146484375, 43.450347900390625], 'score': 0.4660795032978058}, {'image_id': 'bonn_000031_000019_leftImg8bit_foggy_beta_0.02.png', 'category_id': 2, 'bbox': [365.2558288574219, 408.455322265625, 32.00482177734375, 47.52294921875], 'score': 0.4476344585418701}, {'image_id': 'bonn_000031_000019_leftImg8bit_foggy_beta_0.02.png', 'category_id': 0, 'bbox': [1555.41650390625, 377.2159729003906, 35.3646240234375, 72.73568725585938], 'score': 0.42748627066612244}, {'image_id': 'bonn_000031_000019_leftImg8bit_foggy_beta_0.02.png', 'category_id': 0, 'bbox': [37.96638107299805, 344.861572265625, 393.0989990234375, 239.33038330078125], 'score': 0.3970447778701782}, {'image_id': 'bonn_000031_000019_leftImg8bit_foggy_beta_0.02.png', 'category_id': 7, 'bbox': [1457.43994140625, 441.4408264160156, 72.559326171875, 83.99459838867188], 'score': 0.37595370411872864}, {'image_id': 'bonn_000031_000019_leftImg8bit_foggy_beta_0.02.png', 'category_id': 2, 'bbox': [243.48536682128906, 419.5710754394531, 33.84983825683594, 43.61151123046875], 'score': 0.36154234409332275}, {'image_id': 'bonn_000031_000019_leftImg8bit_foggy_beta_0.02.png', 'category_id': 7, 'bbox': [1487.42626953125, 422.6800231933594, 53.3643798828125, 114.69619750976562], 'score': 0.340987890958786}, {'image_id': 'bonn_000031_000019_leftImg8bit_foggy_beta_0.02.png', 'category_id': 0, 'bbox': [1219.911376953125, 400.3116149902344, 13.181884765625, 7.8677978515625], 'score': 0.2929944097995758}, {'image_id': 'bonn_000031_000019_leftImg8bit_foggy_beta_0.02.png', 'category_id': 0, 'bbox': [1192.6822509765625, 400.0743103027344, 19.9854736328125, 9.861419677734375], 'score': 0.2599872648715973}, {'image_id': 'bonn_000031_000019_leftImg8bit_foggy_beta_0.02.png', 'category_id': 2, 'bbox': [1253.0826416015625, 400.9207763671875, 40.4993896484375, 16.92437744140625], 'score': 0.22104011476039886}, {'image_id': 'bonn_000031_000019_leftImg8bit_foggy_beta_0.02.png', 'category_id': 2, 'bbox': [262.63128662109375, 411.6055603027344, 122.81973266601562, 81.76312255859375], 'score': 0.20791281759738922}, {'image_id': 'bonn_000031_000019_leftImg8bit_foggy_beta_0.02.png', 'category_id': 0, 'bbox': [1213.4586181640625, 402.56732177734375, 15.628662109375, 9.961700439453125], 'score': 0.20729750394821167}, {'image_id': 'bonn_000031_000019_leftImg8bit_foggy_beta_0.02.png', 'category_id': 7, 'bbox': [599.9931030273438, 465.476318359375, 63.66241455078125, 39.593597412109375], 'score': 0.20677083730697632}, {'image_id': 'bonn_000031_000019_leftImg8bit_foggy_beta_0.02.png', 'category_id': 2, 'bbox': [336.68402099609375, 410.13348388671875, 28.7891845703125, 71.16464233398438], 'score': 0.20357313752174377}, {'image_id': 'bonn_000031_000019_leftImg8bit_foggy_beta_0.02.png', 'category_id': 2, 'bbox': [176.0005340576172, 412.4891357421875, 102.42176818847656, 76.68948364257812], 'score': 0.18527305126190186}, {'image_id': 'bonn_000031_000019_leftImg8bit_foggy_beta_0.02.png', 'category_id': 2, 'bbox': [599.20361328125, 464.4581604003906, 65.258056640625, 39.290771484375], 'score': 0.1769126057624817}, {'image_id': 'bonn_000031_000019_leftImg8bit_foggy_beta_0.02.png', 'category_id': 0, 'bbox': [1222.8802490234375, 404.07421875, 13.7421875, 12.217864990234375], 'score': 0.17042206227779388}, {'image_id': 'bonn_000031_000019_leftImg8bit_foggy_beta_0.02.png', 'category_id': 7, 'bbox': [218.8118896484375, 443.589599609375, 59.650848388671875, 61.180572509765625], 'score': 0.16038833558559418}, {'image_id': 'bonn_000031_000019_leftImg8bit_foggy_beta_0.02.png', 'category_id': 0, 'bbox': [1539.308837890625, 375.7964782714844, 74.3631591796875, 228.85757446289062], 'score': 0.15691155195236206}, {'image_id': 'bonn_000031_000019_leftImg8bit_foggy_beta_0.02.png', 'category_id': 2, 'bbox': [174.28526306152344, 419.7216796875, 25.266220092773438, 30.947601318359375], 'score': 0.14826491475105286}, {'image_id': 'bonn_000031_000019_leftImg8bit_foggy_beta_0.02.png', 'category_id': 2, 'bbox': [1260.630859375, 401.130126953125, 23.111328125, 9.993438720703125], 'score': 0.13255634903907776}, {'image_id': 'bonn_000031_000019_leftImg8bit_foggy_beta_0.02.png', 'category_id': 0, 'bbox': [1260.6268310546875, 401.1251525878906, 23.08056640625, 9.9923095703125], 'score': 0.12384146451950073}, {'image_id': 'bonn_000031_000019_leftImg8bit_foggy_beta_0.02.png', 'category_id': 7, 'bbox': [222.78404235839844, 459.7313232421875, 40.96562194824219, 38.295074462890625], 'score': 0.11732688546180725}, {'image_id': 'bonn_000031_000019_leftImg8bit_foggy_beta_0.02.png', 'category_id': 0, 'bbox': [37.137939453125, 313.8116760253906, 96.81027221679688, 304.7519836425781], 'score': 0.08667713403701782}, {'image_id': 'bonn_000031_000019_leftImg8bit_foggy_beta_0.02.png', 'category_id': 0, 'bbox': [1361.2216796875, 400.2099914550781, 21.0908203125, 30.653594970703125], 'score': 0.08304835855960846}, {'image_id': 'bonn_000031_000019_leftImg8bit_foggy_beta_0.02.png', 'category_id': 2, 'bbox': [276.1972961425781, 402.64483642578125, 18.42498779296875, 76.2855224609375], 'score': 0.08100872486829758}, {'image_id': 'bonn_000031_000019_leftImg8bit_foggy_beta_0.02.png', 'category_id': 7, 'bbox': [1556.106201171875, 478.96673583984375, 67.0235595703125, 135.6727294921875], 'score': 0.07854039967060089}, {'image_id': 'bonn_000031_000019_leftImg8bit_foggy_beta_0.02.png', 'category_id': 0, 'bbox': [1265.66650390625, 400.4661865234375, 29.1915283203125, 18.398529052734375], 'score': 0.07713282108306885}, {'image_id': 'bonn_000031_000019_leftImg8bit_foggy_beta_0.02.png', 'category_id': 0, 'bbox': [1369.7918701171875, 396.17327880859375, 21.8514404296875, 30.306304931640625], 'score': 0.06415777653455734}, {'image_id': 'bonn_000031_000019_leftImg8bit_foggy_beta_0.02.png', 'category_id': 0, 'bbox': [265.09844970703125, 412.7977600097656, 21.9957275390625, 43.48773193359375], 'score': 0.06333675980567932}, {'image_id': 'bonn_000031_000019_leftImg8bit_foggy_beta_0.02.png', 'category_id': 0, 'bbox': [606.3139038085938, 462.97991943359375, 28.7347412109375, 42.25701904296875], 'score': 0.06313823163509369}, {'image_id': 'bonn_000031_000019_leftImg8bit_foggy_beta_0.02.png', 'category_id': 7, 'bbox': [255.9439239501953, 440.1342468261719, 40.70903015136719, 70.15451049804688], 'score': 0.06301289796829224}, {'image_id': 'bonn_000031_000019_leftImg8bit_foggy_beta_0.02.png', 'category_id': 7, 'bbox': [179.4053192138672, 441.71051025390625, 30.248519897460938, 60.12286376953125], 'score': 0.05799490958452225}, {'image_id': 'bonn_000031_000019_leftImg8bit_foggy_beta_0.02.png', 'category_id': 3, 'bbox': [1253.056884765625, 400.85443115234375, 40.3575439453125, 16.802032470703125], 'score': 0.05099530518054962}]}\n"
     ]
    }
   ],
   "source": [
    "print(type(data))\n",
    "print(data[-1])"
   ]
  },
  {
   "cell_type": "code",
   "execution_count": null,
   "metadata": {},
   "outputs": [
    {
     "ename": "NameError",
     "evalue": "name 'args' is not defined",
     "output_type": "error",
     "traceback": [
      "\u001b[0;31m---------------------------------------------------------------------------\u001b[0m",
      "\u001b[0;31mNameError\u001b[0m                                 Traceback (most recent call last)",
      "Cell \u001b[0;32mIn[15], line 81\u001b[0m\n\u001b[1;32m     78\u001b[0m     default_setup(cfg, args)\n\u001b[1;32m     79\u001b[0m     \u001b[38;5;28;01mreturn\u001b[39;00m cfg\n\u001b[0;32m---> 81\u001b[0m cfg \u001b[38;5;241m=\u001b[39m setup(\u001b[43margs\u001b[49m)\n\u001b[1;32m     83\u001b[0m cfg\u001b[38;5;241m.\u001b[39mmerge_from_file(\u001b[38;5;124m\"\u001b[39m\u001b[38;5;124m./configs/faster_rcnn_VGG_cross_city.yaml\u001b[39m\u001b[38;5;124m\"\u001b[39m)\n\u001b[1;32m     85\u001b[0m \u001b[38;5;66;03m# Load model weights\u001b[39;00m\n",
      "\u001b[0;31mNameError\u001b[0m: name 'args' is not defined"
     ]
    }
   ],
   "source": [
    "from detectron2.evaluation import COCOEvaluator, inference_on_dataset\n",
    "from detectron2.data import build_detection_test_loader\n",
    "from detectron2.config import get_cfg\n",
    "from detectron2.config import CfgNode as CN\n",
    "from detectron2.engine import default_argument_parser, default_setup, launch\n",
    "\n",
    "\n",
    "def add_cat_config(cfg):\n",
    "    \"\"\"\n",
    "    Add config for semisupnet.\n",
    "    \"\"\"\n",
    "    _C = cfg\n",
    "    _C.TEST.VAL_LOSS = True\n",
    "\n",
    "    _C.MODEL.RPN.UNSUP_LOSS_WEIGHT = 1.0\n",
    "    _C.MODEL.RPN.LOSS = \"CrossEntropy\"\n",
    "    _C.MODEL.ROI_HEADS.LOSS = \"CrossEntropy\"\n",
    "\n",
    "    _C.SOLVER.IMG_PER_BATCH_LABEL = 1\n",
    "    _C.SOLVER.IMG_PER_BATCH_UNLABEL = 1\n",
    "    _C.SOLVER.FACTOR_LIST = (1,)\n",
    "\n",
    "    _C.DATASETS.TRAIN_LABEL = (\"coco_2017_train\",)\n",
    "    _C.DATASETS.TRAIN_UNLABEL = (\"coco_2017_train\",)\n",
    "    _C.DATASETS.CROSS_DATASET = True\n",
    "    _C.TEST.EVALUATOR = \"COCOeval\"\n",
    "\n",
    "    _C.SEMISUPNET = CN()\n",
    "\n",
    "    # Output dimension of the MLP projector after `res5` block\n",
    "    _C.SEMISUPNET.MLP_DIM = 128\n",
    "\n",
    "    # Semi-supervised training\n",
    "    _C.SEMISUPNET.Trainer = \"cat\"\n",
    "    _C.SEMISUPNET.BBOX_THRESHOLD = 0.7\n",
    "    _C.SEMISUPNET.PSEUDO_BBOX_SAMPLE = \"thresholding\"\n",
    "    _C.SEMISUPNET.TEACHER_UPDATE_ITER = 1\n",
    "    _C.SEMISUPNET.BURN_UP_STEP = 20000\n",
    "    _C.SEMISUPNET.EMA_KEEP_RATE = 0.0\n",
    "    _C.SEMISUPNET.UNSUP_LOSS_WEIGHT = 4.0\n",
    "    _C.SEMISUPNET.SUP_LOSS_WEIGHT = 0.5\n",
    "    _C.SEMISUPNET.LOSS_WEIGHT_TYPE = \"standard\"\n",
    "    _C.SEMISUPNET.DIS_TYPE = \"res4\"\n",
    "    _C.SEMISUPNET.DIS_LOSS_WEIGHT = 0.1\n",
    "\n",
    "    # dataloader\n",
    "    # supervision level\n",
    "    _C.DATALOADER.SUP_PERCENT = 100.0  # 5 = 5% dataset as labeled set\n",
    "    _C.DATALOADER.RANDOM_DATA_SEED = 0  # random seed to read data\n",
    "    _C.DATALOADER.RANDOM_DATA_SEED_PATH = \"dataseed/COCO_supervision.txt\"\n",
    "\n",
    "    _C.EMAMODEL = CN()\n",
    "    _C.EMAMODEL.SUP_CONSIST = True\n",
    "    \n",
    "    _C.TARGET_BBOX = False\n",
    "\n",
    "    _C.BLOCKED_CLASSES = []\n",
    "\n",
    "    _C.CLS_LOSS = True\n",
    "    _C.LOG_LOSS = True\n",
    "    _C.LOSS_REG_VAL = 1.0\n",
    "\n",
    "    _C.MIXUP = True\n",
    "    _C.LIMIT_MIX = True\n",
    "    _C.MIX_RATIO = 0.5\n",
    "    _C.KEEP_ASPECT = False\n",
    "    _C.MIX_RANDOM_CLASSES = False\n",
    "    _C.DIA_LOSS = False\n",
    "\n",
    "cfg = get_cfg()\n",
    "add_cat_config(cfg)\n",
    "cfg.merge_from_file(\"./configs/faster_rcnn_VGG_cross_city.yaml\")\n",
    "cfg.merge_from_list(args.opts)\n",
    "cfg.freeze()\n",
    "default_setup(cfg, args)\n",
    "\n",
    "\n",
    "\n",
    "# Load model weights\n",
    "cfg.MODEL.WEIGHTS = \"./output/exp_city/model_final.pth\"\n",
    "model = build_model(cfg)  # build_model is a function from detectron2 that builds the model\n",
    "\n",
    "# Build a test data loader\n",
    "data_loader = build_detection_test_loader(cfg, \"cityscapes_foggy_test\")\n",
    "\n",
    "# Create an evaluator\n",
    "evaluator = COCOEvaluator(\"cityscapes_foggy_test\", cfg, False, output_dir=\"output/eval\")\n",
    "\n",
    "# Run inference\n",
    "inference_on_dataset(model, data_loader, evaluator)\n"
   ]
  }
 ],
 "metadata": {
  "kernelspec": {
   "display_name": "Python 3",
   "language": "python",
   "name": "python3"
  },
  "language_info": {
   "codemirror_mode": {
    "name": "ipython",
    "version": 3
   },
   "file_extension": ".py",
   "mimetype": "text/x-python",
   "name": "python",
   "nbconvert_exporter": "python",
   "pygments_lexer": "ipython3",
   "version": "3.8.20"
  }
 },
 "nbformat": 4,
 "nbformat_minor": 2
}
